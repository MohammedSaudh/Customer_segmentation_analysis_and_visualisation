{
 "cells": [
  {
   "cell_type": "code",
   "execution_count": 1,
   "metadata": {},
   "outputs": [],
   "source": [
    "import pandas as pd\n",
    "import math\n",
    "import numpy as np\n",
    "import matplotlib.pyplot as plt\n",
    "import seaborn as sns\n",
    "%matplotlib inline\n",
    "from datetime import datetime, date\n",
    "plt.style.use('ggplot')"
   ]
  },
  {
   "cell_type": "code",
   "execution_count": 2,
   "metadata": {},
   "outputs": [],
   "source": [
    "#importing transaction and customer demographic dataset\n",
    "transactions = pd.read_csv('Transactions_Cleaned.csv')\n",
    "cust = pd.read_csv('CustomerDemographic_Cleaned.csv')"
   ]
  },
  {
   "cell_type": "code",
   "execution_count": 3,
   "metadata": {},
   "outputs": [
    {
     "data": {
      "text/html": [
       "<div>\n",
       "<style scoped>\n",
       "    .dataframe tbody tr th:only-of-type {\n",
       "        vertical-align: middle;\n",
       "    }\n",
       "\n",
       "    .dataframe tbody tr th {\n",
       "        vertical-align: top;\n",
       "    }\n",
       "\n",
       "    .dataframe thead th {\n",
       "        text-align: right;\n",
       "    }\n",
       "</style>\n",
       "<table border=\"1\" class=\"dataframe\">\n",
       "  <thead>\n",
       "    <tr style=\"text-align: right;\">\n",
       "      <th></th>\n",
       "      <th>transaction_id</th>\n",
       "      <th>product_id</th>\n",
       "      <th>customer_id</th>\n",
       "      <th>transaction_date</th>\n",
       "      <th>online_order</th>\n",
       "      <th>order_status</th>\n",
       "      <th>brand</th>\n",
       "      <th>product_line</th>\n",
       "      <th>product_class</th>\n",
       "      <th>product_size</th>\n",
       "      <th>list_price</th>\n",
       "      <th>standard_cost</th>\n",
       "      <th>product_first_sold_date</th>\n",
       "      <th>Profit</th>\n",
       "    </tr>\n",
       "  </thead>\n",
       "  <tbody>\n",
       "    <tr>\n",
       "      <th>0</th>\n",
       "      <td>1</td>\n",
       "      <td>2</td>\n",
       "      <td>2950</td>\n",
       "      <td>2017-02-25</td>\n",
       "      <td>0.0</td>\n",
       "      <td>Approved</td>\n",
       "      <td>Solex</td>\n",
       "      <td>Standard</td>\n",
       "      <td>medium</td>\n",
       "      <td>medium</td>\n",
       "      <td>71.49</td>\n",
       "      <td>53.62</td>\n",
       "      <td>41245.0</td>\n",
       "      <td>17.87</td>\n",
       "    </tr>\n",
       "    <tr>\n",
       "      <th>1</th>\n",
       "      <td>2</td>\n",
       "      <td>3</td>\n",
       "      <td>3120</td>\n",
       "      <td>2017-05-21</td>\n",
       "      <td>1.0</td>\n",
       "      <td>Approved</td>\n",
       "      <td>Trek Bicycles</td>\n",
       "      <td>Standard</td>\n",
       "      <td>medium</td>\n",
       "      <td>large</td>\n",
       "      <td>2091.47</td>\n",
       "      <td>388.92</td>\n",
       "      <td>41701.0</td>\n",
       "      <td>1702.55</td>\n",
       "    </tr>\n",
       "    <tr>\n",
       "      <th>2</th>\n",
       "      <td>3</td>\n",
       "      <td>37</td>\n",
       "      <td>402</td>\n",
       "      <td>2017-10-16</td>\n",
       "      <td>0.0</td>\n",
       "      <td>Approved</td>\n",
       "      <td>OHM Cycles</td>\n",
       "      <td>Standard</td>\n",
       "      <td>low</td>\n",
       "      <td>medium</td>\n",
       "      <td>1793.43</td>\n",
       "      <td>248.82</td>\n",
       "      <td>36361.0</td>\n",
       "      <td>1544.61</td>\n",
       "    </tr>\n",
       "    <tr>\n",
       "      <th>3</th>\n",
       "      <td>4</td>\n",
       "      <td>88</td>\n",
       "      <td>3135</td>\n",
       "      <td>2017-08-31</td>\n",
       "      <td>0.0</td>\n",
       "      <td>Approved</td>\n",
       "      <td>Norco Bicycles</td>\n",
       "      <td>Standard</td>\n",
       "      <td>medium</td>\n",
       "      <td>medium</td>\n",
       "      <td>1198.46</td>\n",
       "      <td>381.10</td>\n",
       "      <td>36145.0</td>\n",
       "      <td>817.36</td>\n",
       "    </tr>\n",
       "    <tr>\n",
       "      <th>4</th>\n",
       "      <td>5</td>\n",
       "      <td>78</td>\n",
       "      <td>787</td>\n",
       "      <td>2017-10-01</td>\n",
       "      <td>1.0</td>\n",
       "      <td>Approved</td>\n",
       "      <td>Giant Bicycles</td>\n",
       "      <td>Standard</td>\n",
       "      <td>medium</td>\n",
       "      <td>large</td>\n",
       "      <td>1765.30</td>\n",
       "      <td>709.48</td>\n",
       "      <td>42226.0</td>\n",
       "      <td>1055.82</td>\n",
       "    </tr>\n",
       "  </tbody>\n",
       "</table>\n",
       "</div>"
      ],
      "text/plain": [
       "   transaction_id  product_id  customer_id transaction_date  online_order  \\\n",
       "0               1           2         2950       2017-02-25           0.0   \n",
       "1               2           3         3120       2017-05-21           1.0   \n",
       "2               3          37          402       2017-10-16           0.0   \n",
       "3               4          88         3135       2017-08-31           0.0   \n",
       "4               5          78          787       2017-10-01           1.0   \n",
       "\n",
       "  order_status           brand product_line product_class product_size  \\\n",
       "0     Approved           Solex     Standard        medium       medium   \n",
       "1     Approved   Trek Bicycles     Standard        medium        large   \n",
       "2     Approved      OHM Cycles     Standard           low       medium   \n",
       "3     Approved  Norco Bicycles     Standard        medium       medium   \n",
       "4     Approved  Giant Bicycles     Standard        medium        large   \n",
       "\n",
       "   list_price  standard_cost  product_first_sold_date   Profit  \n",
       "0       71.49          53.62                  41245.0    17.87  \n",
       "1     2091.47         388.92                  41701.0  1702.55  \n",
       "2     1793.43         248.82                  36361.0  1544.61  \n",
       "3     1198.46         381.10                  36145.0   817.36  \n",
       "4     1765.30         709.48                  42226.0  1055.82  "
      ]
     },
     "execution_count": 3,
     "metadata": {},
     "output_type": "execute_result"
    }
   ],
   "source": [
    "# Fetching first 5 transaction records\n",
    "transactions.head()"
   ]
  },
  {
   "cell_type": "code",
   "execution_count": 4,
   "metadata": {},
   "outputs": [
    {
     "data": {
      "text/html": [
       "<div>\n",
       "<style scoped>\n",
       "    .dataframe tbody tr th:only-of-type {\n",
       "        vertical-align: middle;\n",
       "    }\n",
       "\n",
       "    .dataframe tbody tr th {\n",
       "        vertical-align: top;\n",
       "    }\n",
       "\n",
       "    .dataframe thead th {\n",
       "        text-align: right;\n",
       "    }\n",
       "</style>\n",
       "<table border=\"1\" class=\"dataframe\">\n",
       "  <thead>\n",
       "    <tr style=\"text-align: right;\">\n",
       "      <th></th>\n",
       "      <th>customer_id</th>\n",
       "      <th>first_name</th>\n",
       "      <th>last_name</th>\n",
       "      <th>gender</th>\n",
       "      <th>past_3_years_bike_related_purchases</th>\n",
       "      <th>DOB</th>\n",
       "      <th>job_title</th>\n",
       "      <th>job_industry_category</th>\n",
       "      <th>wealth_segment</th>\n",
       "      <th>deceased_indicator</th>\n",
       "      <th>owns_car</th>\n",
       "      <th>tenure</th>\n",
       "      <th>Age</th>\n",
       "    </tr>\n",
       "  </thead>\n",
       "  <tbody>\n",
       "    <tr>\n",
       "      <th>0</th>\n",
       "      <td>1</td>\n",
       "      <td>Laraine</td>\n",
       "      <td>Medendorp</td>\n",
       "      <td>Female</td>\n",
       "      <td>93</td>\n",
       "      <td>1953-10-12</td>\n",
       "      <td>Executive Secretary</td>\n",
       "      <td>Health</td>\n",
       "      <td>Mass Customer</td>\n",
       "      <td>N</td>\n",
       "      <td>Yes</td>\n",
       "      <td>11.0</td>\n",
       "      <td>68</td>\n",
       "    </tr>\n",
       "    <tr>\n",
       "      <th>1</th>\n",
       "      <td>2</td>\n",
       "      <td>Eli</td>\n",
       "      <td>Bockman</td>\n",
       "      <td>Male</td>\n",
       "      <td>81</td>\n",
       "      <td>1980-12-16</td>\n",
       "      <td>Administrative Officer</td>\n",
       "      <td>Financial Services</td>\n",
       "      <td>Mass Customer</td>\n",
       "      <td>N</td>\n",
       "      <td>Yes</td>\n",
       "      <td>16.0</td>\n",
       "      <td>41</td>\n",
       "    </tr>\n",
       "    <tr>\n",
       "      <th>2</th>\n",
       "      <td>3</td>\n",
       "      <td>Arlin</td>\n",
       "      <td>Dearle</td>\n",
       "      <td>Male</td>\n",
       "      <td>61</td>\n",
       "      <td>1954-01-20</td>\n",
       "      <td>Recruiting Manager</td>\n",
       "      <td>Property</td>\n",
       "      <td>Mass Customer</td>\n",
       "      <td>N</td>\n",
       "      <td>Yes</td>\n",
       "      <td>15.0</td>\n",
       "      <td>68</td>\n",
       "    </tr>\n",
       "    <tr>\n",
       "      <th>3</th>\n",
       "      <td>4</td>\n",
       "      <td>Talbot</td>\n",
       "      <td>None</td>\n",
       "      <td>Male</td>\n",
       "      <td>33</td>\n",
       "      <td>1961-10-03</td>\n",
       "      <td>Missing</td>\n",
       "      <td>IT</td>\n",
       "      <td>Mass Customer</td>\n",
       "      <td>N</td>\n",
       "      <td>No</td>\n",
       "      <td>7.0</td>\n",
       "      <td>60</td>\n",
       "    </tr>\n",
       "    <tr>\n",
       "      <th>4</th>\n",
       "      <td>5</td>\n",
       "      <td>Sheila-kathryn</td>\n",
       "      <td>Calton</td>\n",
       "      <td>Female</td>\n",
       "      <td>56</td>\n",
       "      <td>1977-05-13</td>\n",
       "      <td>Senior Editor</td>\n",
       "      <td>Missing</td>\n",
       "      <td>Affluent Customer</td>\n",
       "      <td>N</td>\n",
       "      <td>Yes</td>\n",
       "      <td>8.0</td>\n",
       "      <td>45</td>\n",
       "    </tr>\n",
       "  </tbody>\n",
       "</table>\n",
       "</div>"
      ],
      "text/plain": [
       "   customer_id      first_name  last_name  gender  \\\n",
       "0            1         Laraine  Medendorp  Female   \n",
       "1            2             Eli    Bockman    Male   \n",
       "2            3           Arlin     Dearle    Male   \n",
       "3            4          Talbot       None    Male   \n",
       "4            5  Sheila-kathryn     Calton  Female   \n",
       "\n",
       "   past_3_years_bike_related_purchases         DOB               job_title  \\\n",
       "0                                   93  1953-10-12     Executive Secretary   \n",
       "1                                   81  1980-12-16  Administrative Officer   \n",
       "2                                   61  1954-01-20      Recruiting Manager   \n",
       "3                                   33  1961-10-03                 Missing   \n",
       "4                                   56  1977-05-13           Senior Editor   \n",
       "\n",
       "  job_industry_category     wealth_segment deceased_indicator owns_car  \\\n",
       "0                Health      Mass Customer                  N      Yes   \n",
       "1    Financial Services      Mass Customer                  N      Yes   \n",
       "2              Property      Mass Customer                  N      Yes   \n",
       "3                    IT      Mass Customer                  N       No   \n",
       "4               Missing  Affluent Customer                  N      Yes   \n",
       "\n",
       "   tenure  Age  \n",
       "0    11.0   68  \n",
       "1    16.0   41  \n",
       "2    15.0   68  \n",
       "3     7.0   60  \n",
       "4     8.0   45  "
      ]
     },
     "execution_count": 4,
     "metadata": {},
     "output_type": "execute_result"
    }
   ],
   "source": [
    "cust.head()"
   ]
  },
  {
   "cell_type": "code",
   "execution_count": 5,
   "metadata": {},
   "outputs": [
    {
     "name": "stdout",
     "output_type": "stream",
     "text": [
      "Total records(rows) in the Transactions dataset: 19803\n",
      "Total features (columns) in the Tansactions datset:14\n"
     ]
    }
   ],
   "source": [
    "print(\"Total records(rows) in the Transactions dataset: {}\".format(transactions.shape[0]))\n",
    "print(\"Total features (columns) in the Tansactions datset:{}\".format(transactions.shape[1]))"
   ]
  },
  {
   "cell_type": "code",
   "execution_count": 6,
   "metadata": {},
   "outputs": [
    {
     "name": "stdout",
     "output_type": "stream",
     "text": [
      "Total entries(rows) in the Customer Demographics Dataset: 3912\n",
      "Total features(columns) in the Customer Demographics Dataset: 13\n"
     ]
    }
   ],
   "source": [
    "print(\"Total entries(rows) in the Customer Demographics Dataset: {}\".format(cust.shape[0]))\n",
    "print(\"Total features(columns) in the Customer Demographics Dataset: {}\".format(cust.shape[1]))"
   ]
  },
  {
   "cell_type": "code",
   "execution_count": 7,
   "metadata": {},
   "outputs": [],
   "source": [
    "merged_data = pd.merge(transactions, cust, left_on='customer_id', right_on='customer_id', how='inner')"
   ]
  },
  {
   "cell_type": "code",
   "execution_count": 8,
   "metadata": {},
   "outputs": [
    {
     "name": "stdout",
     "output_type": "stream",
     "text": [
      "Total records (rows) in the Merged Dataset : 19354\n",
      "Total features (columns) in the Merged Dataset : 26\n"
     ]
    }
   ],
   "source": [
    "print(\"Total records (rows) in the Merged Dataset : {}\".format(merged_data.shape[0]))\n",
    "print(\"Total features (columns) in the Merged Dataset : {}\".format(merged_data.shape[1]))"
   ]
  },
  {
   "cell_type": "code",
   "execution_count": 9,
   "metadata": {},
   "outputs": [
    {
     "name": "stdout",
     "output_type": "stream",
     "text": [
      "<class 'pandas.core.frame.DataFrame'>\n",
      "Int64Index: 19354 entries, 0 to 19353\n",
      "Data columns (total 26 columns):\n",
      " #   Column                               Non-Null Count  Dtype  \n",
      "---  ------                               --------------  -----  \n",
      " 0   transaction_id                       19354 non-null  int64  \n",
      " 1   product_id                           19354 non-null  int64  \n",
      " 2   customer_id                          19354 non-null  int64  \n",
      " 3   transaction_date                     19354 non-null  object \n",
      " 4   online_order                         19354 non-null  float64\n",
      " 5   order_status                         19354 non-null  object \n",
      " 6   brand                                19354 non-null  object \n",
      " 7   product_line                         19354 non-null  object \n",
      " 8   product_class                        19354 non-null  object \n",
      " 9   product_size                         19354 non-null  object \n",
      " 10  list_price                           19354 non-null  float64\n",
      " 11  standard_cost                        19354 non-null  float64\n",
      " 12  product_first_sold_date              19354 non-null  float64\n",
      " 13  Profit                               19354 non-null  float64\n",
      " 14  first_name                           19354 non-null  object \n",
      " 15  last_name                            19354 non-null  object \n",
      " 16  gender                               19354 non-null  object \n",
      " 17  past_3_years_bike_related_purchases  19354 non-null  int64  \n",
      " 18  DOB                                  19354 non-null  object \n",
      " 19  job_title                            19354 non-null  object \n",
      " 20  job_industry_category                19354 non-null  object \n",
      " 21  wealth_segment                       19354 non-null  object \n",
      " 22  deceased_indicator                   19354 non-null  object \n",
      " 23  owns_car                             19354 non-null  object \n",
      " 24  tenure                               19354 non-null  float64\n",
      " 25  Age                                  19354 non-null  int64  \n",
      "dtypes: float64(6), int64(5), object(15)\n",
      "memory usage: 4.0+ MB\n"
     ]
    }
   ],
   "source": [
    "merged_data.info()"
   ]
  },
  {
   "cell_type": "code",
   "execution_count": 10,
   "metadata": {},
   "outputs": [],
   "source": [
    "merged_data['transaction_date'] = pd.to_datetime(merged_data['transaction_date'])"
   ]
  },
  {
   "cell_type": "markdown",
   "metadata": {},
   "source": [
    "1. RFM Analysis"
   ]
  },
  {
   "cell_type": "markdown",
   "metadata": {},
   "source": [
    "\n",
    "\n",
    "RFM (Recency, Frequency, Monetary) analysis is a behavior-based approach grouping customers into segments. It groups the customers on the basis of their previous purchase transactions. How recently, how often, and how much did a customer buy. RFM filters customers into various groups for the purpose of better service. There is a segment of customer who is the big spender but what if they purchased only once or how recently they purchased? Do they often purchase our product? Also, It helps managers to run an effective promotional campaign for personalized service.\n",
    "\n",
    "    Recency (R): Who have purchased recently? Number of days since last purchase (least recency)\n",
    "    Frequency (F): Who has purchased frequently? It means the total number of purchases. ( high frequency)\n",
    "    Monetary Value(M): Who have high purchase amount? It means the total money customer spent (high monetary value)\n",
    "\n"
   ]
  },
  {
   "cell_type": "code",
   "execution_count": 11,
   "metadata": {},
   "outputs": [
    {
     "data": {
      "text/plain": [
       "datetime.date(2017, 12, 30)"
      ]
     },
     "execution_count": 11,
     "metadata": {},
     "output_type": "execute_result"
    }
   ],
   "source": [
    "max_trans_date = max(merged_data['transaction_date']).date()\n",
    "max_trans_date"
   ]
  },
  {
   "cell_type": "code",
   "execution_count": 12,
   "metadata": {},
   "outputs": [],
   "source": [
    "# Taking the last transaction date as a reference date for comparision and \n",
    "# finding the number of days between a transaction date and last transaction date to compute the recency.\n",
    "comparison_date = datetime.strptime(str(max_trans_date), \"%Y-%m-%d\")"
   ]
  },
  {
   "cell_type": "code",
   "execution_count": 14,
   "metadata": {},
   "outputs": [],
   "source": [
    "# Creating a RFM table that will contain all the values for recency , frequency and Monetray data. \n",
    "rfm_table = merged_data.groupby(['customer_id']).agg({'transaction_date': lambda date: (comparison_date - date.max()).days, \n",
    "                                                        'product_id': lambda prod_id : len(prod_id),\n",
    "                                                        'Profit': lambda p : sum(p)})"
   ]
  },
  {
   "cell_type": "code",
   "execution_count": 16,
   "metadata": {},
   "outputs": [
    {
     "data": {
      "text/plain": [
       "Index(['transaction_date', 'product_id', 'Profit'], dtype='object')"
      ]
     },
     "execution_count": 16,
     "metadata": {},
     "output_type": "execute_result"
    }
   ],
   "source": [
    "# The columns in rfm_table dataframe are not properly named. Renaming of the columns to appropiate name is needed\n",
    "rfm_table.columns"
   ]
  },
  {
   "cell_type": "code",
   "execution_count": 17,
   "metadata": {},
   "outputs": [],
   "source": [
    "# Renaming column names to appropiate names\n",
    "rfm_table.rename(columns= {'transaction_date' : 'recency',\n",
    "                            'product_id' : 'frequency',\n",
    "                             'Profit': 'monetory'}, inplace=True)"
   ]
  },
  {
   "cell_type": "code",
   "execution_count": 18,
   "metadata": {},
   "outputs": [
    {
     "data": {
      "text/html": [
       "<div>\n",
       "<style scoped>\n",
       "    .dataframe tbody tr th:only-of-type {\n",
       "        vertical-align: middle;\n",
       "    }\n",
       "\n",
       "    .dataframe tbody tr th {\n",
       "        vertical-align: top;\n",
       "    }\n",
       "\n",
       "    .dataframe thead th {\n",
       "        text-align: right;\n",
       "    }\n",
       "</style>\n",
       "<table border=\"1\" class=\"dataframe\">\n",
       "  <thead>\n",
       "    <tr style=\"text-align: right;\">\n",
       "      <th></th>\n",
       "      <th>recency</th>\n",
       "      <th>frequency</th>\n",
       "      <th>monetory</th>\n",
       "    </tr>\n",
       "    <tr>\n",
       "      <th>customer_id</th>\n",
       "      <th></th>\n",
       "      <th></th>\n",
       "      <th></th>\n",
       "    </tr>\n",
       "  </thead>\n",
       "  <tbody>\n",
       "    <tr>\n",
       "      <th>1</th>\n",
       "      <td>7</td>\n",
       "      <td>11</td>\n",
       "      <td>3018.09</td>\n",
       "    </tr>\n",
       "    <tr>\n",
       "      <th>2</th>\n",
       "      <td>128</td>\n",
       "      <td>3</td>\n",
       "      <td>2226.26</td>\n",
       "    </tr>\n",
       "    <tr>\n",
       "      <th>3</th>\n",
       "      <td>102</td>\n",
       "      <td>8</td>\n",
       "      <td>3362.81</td>\n",
       "    </tr>\n",
       "    <tr>\n",
       "      <th>4</th>\n",
       "      <td>195</td>\n",
       "      <td>2</td>\n",
       "      <td>220.57</td>\n",
       "    </tr>\n",
       "    <tr>\n",
       "      <th>5</th>\n",
       "      <td>16</td>\n",
       "      <td>6</td>\n",
       "      <td>2394.94</td>\n",
       "    </tr>\n",
       "    <tr>\n",
       "      <th>...</th>\n",
       "      <td>...</td>\n",
       "      <td>...</td>\n",
       "      <td>...</td>\n",
       "    </tr>\n",
       "    <tr>\n",
       "      <th>3496</th>\n",
       "      <td>256</td>\n",
       "      <td>4</td>\n",
       "      <td>2045.84</td>\n",
       "    </tr>\n",
       "    <tr>\n",
       "      <th>3497</th>\n",
       "      <td>52</td>\n",
       "      <td>3</td>\n",
       "      <td>1648.32</td>\n",
       "    </tr>\n",
       "    <tr>\n",
       "      <th>3498</th>\n",
       "      <td>127</td>\n",
       "      <td>6</td>\n",
       "      <td>3147.33</td>\n",
       "    </tr>\n",
       "    <tr>\n",
       "      <th>3499</th>\n",
       "      <td>51</td>\n",
       "      <td>7</td>\n",
       "      <td>4955.25</td>\n",
       "    </tr>\n",
       "    <tr>\n",
       "      <th>3500</th>\n",
       "      <td>144</td>\n",
       "      <td>6</td>\n",
       "      <td>1785.86</td>\n",
       "    </tr>\n",
       "  </tbody>\n",
       "</table>\n",
       "<p>3416 rows × 3 columns</p>\n",
       "</div>"
      ],
      "text/plain": [
       "             recency  frequency  monetory\n",
       "customer_id                              \n",
       "1                  7         11   3018.09\n",
       "2                128          3   2226.26\n",
       "3                102          8   3362.81\n",
       "4                195          2    220.57\n",
       "5                 16          6   2394.94\n",
       "...              ...        ...       ...\n",
       "3496             256          4   2045.84\n",
       "3497              52          3   1648.32\n",
       "3498             127          6   3147.33\n",
       "3499              51          7   4955.25\n",
       "3500             144          6   1785.86\n",
       "\n",
       "[3416 rows x 3 columns]"
      ]
     },
     "execution_count": 18,
     "metadata": {},
     "output_type": "execute_result"
    }
   ],
   "source": [
    "rfm_table"
   ]
  },
  {
   "cell_type": "code",
   "execution_count": 19,
   "metadata": {},
   "outputs": [],
   "source": [
    "rfm_table['r_quartile'] = pd.qcut(rfm_table['recency'], 4, ['4', '3', '2', '1'])\n",
    "rfm_table['f_quartile'] = pd.qcut(rfm_table['frequency'], 4, ['4', '3', '2', '1'])\n",
    "rfm_table['m_quartile'] = pd.qcut(rfm_table['monetory'], 4, ['4', '3', '2', '1'])"
   ]
  },
  {
   "cell_type": "code",
   "execution_count": 20,
   "metadata": {},
   "outputs": [
    {
     "data": {
      "text/html": [
       "<div>\n",
       "<style scoped>\n",
       "    .dataframe tbody tr th:only-of-type {\n",
       "        vertical-align: middle;\n",
       "    }\n",
       "\n",
       "    .dataframe tbody tr th {\n",
       "        vertical-align: top;\n",
       "    }\n",
       "\n",
       "    .dataframe thead th {\n",
       "        text-align: right;\n",
       "    }\n",
       "</style>\n",
       "<table border=\"1\" class=\"dataframe\">\n",
       "  <thead>\n",
       "    <tr style=\"text-align: right;\">\n",
       "      <th></th>\n",
       "      <th>recency</th>\n",
       "      <th>frequency</th>\n",
       "      <th>monetory</th>\n",
       "      <th>r_quartile</th>\n",
       "      <th>f_quartile</th>\n",
       "      <th>m_quartile</th>\n",
       "    </tr>\n",
       "    <tr>\n",
       "      <th>customer_id</th>\n",
       "      <th></th>\n",
       "      <th></th>\n",
       "      <th></th>\n",
       "      <th></th>\n",
       "      <th></th>\n",
       "      <th></th>\n",
       "    </tr>\n",
       "  </thead>\n",
       "  <tbody>\n",
       "    <tr>\n",
       "      <th>1</th>\n",
       "      <td>7</td>\n",
       "      <td>11</td>\n",
       "      <td>3018.09</td>\n",
       "      <td>4</td>\n",
       "      <td>1</td>\n",
       "      <td>2</td>\n",
       "    </tr>\n",
       "    <tr>\n",
       "      <th>2</th>\n",
       "      <td>128</td>\n",
       "      <td>3</td>\n",
       "      <td>2226.26</td>\n",
       "      <td>1</td>\n",
       "      <td>4</td>\n",
       "      <td>3</td>\n",
       "    </tr>\n",
       "    <tr>\n",
       "      <th>3</th>\n",
       "      <td>102</td>\n",
       "      <td>8</td>\n",
       "      <td>3362.81</td>\n",
       "      <td>1</td>\n",
       "      <td>1</td>\n",
       "      <td>2</td>\n",
       "    </tr>\n",
       "    <tr>\n",
       "      <th>4</th>\n",
       "      <td>195</td>\n",
       "      <td>2</td>\n",
       "      <td>220.57</td>\n",
       "      <td>1</td>\n",
       "      <td>4</td>\n",
       "      <td>4</td>\n",
       "    </tr>\n",
       "    <tr>\n",
       "      <th>5</th>\n",
       "      <td>16</td>\n",
       "      <td>6</td>\n",
       "      <td>2394.94</td>\n",
       "      <td>4</td>\n",
       "      <td>3</td>\n",
       "      <td>3</td>\n",
       "    </tr>\n",
       "    <tr>\n",
       "      <th>...</th>\n",
       "      <td>...</td>\n",
       "      <td>...</td>\n",
       "      <td>...</td>\n",
       "      <td>...</td>\n",
       "      <td>...</td>\n",
       "      <td>...</td>\n",
       "    </tr>\n",
       "    <tr>\n",
       "      <th>3496</th>\n",
       "      <td>256</td>\n",
       "      <td>4</td>\n",
       "      <td>2045.84</td>\n",
       "      <td>1</td>\n",
       "      <td>4</td>\n",
       "      <td>3</td>\n",
       "    </tr>\n",
       "    <tr>\n",
       "      <th>3497</th>\n",
       "      <td>52</td>\n",
       "      <td>3</td>\n",
       "      <td>1648.32</td>\n",
       "      <td>2</td>\n",
       "      <td>4</td>\n",
       "      <td>4</td>\n",
       "    </tr>\n",
       "    <tr>\n",
       "      <th>3498</th>\n",
       "      <td>127</td>\n",
       "      <td>6</td>\n",
       "      <td>3147.33</td>\n",
       "      <td>1</td>\n",
       "      <td>3</td>\n",
       "      <td>2</td>\n",
       "    </tr>\n",
       "    <tr>\n",
       "      <th>3499</th>\n",
       "      <td>51</td>\n",
       "      <td>7</td>\n",
       "      <td>4955.25</td>\n",
       "      <td>2</td>\n",
       "      <td>2</td>\n",
       "      <td>1</td>\n",
       "    </tr>\n",
       "    <tr>\n",
       "      <th>3500</th>\n",
       "      <td>144</td>\n",
       "      <td>6</td>\n",
       "      <td>1785.86</td>\n",
       "      <td>1</td>\n",
       "      <td>3</td>\n",
       "      <td>4</td>\n",
       "    </tr>\n",
       "  </tbody>\n",
       "</table>\n",
       "<p>3416 rows × 6 columns</p>\n",
       "</div>"
      ],
      "text/plain": [
       "             recency  frequency  monetory r_quartile f_quartile m_quartile\n",
       "customer_id                                                               \n",
       "1                  7         11   3018.09          4          1          2\n",
       "2                128          3   2226.26          1          4          3\n",
       "3                102          8   3362.81          1          1          2\n",
       "4                195          2    220.57          1          4          4\n",
       "5                 16          6   2394.94          4          3          3\n",
       "...              ...        ...       ...        ...        ...        ...\n",
       "3496             256          4   2045.84          1          4          3\n",
       "3497              52          3   1648.32          2          4          4\n",
       "3498             127          6   3147.33          1          3          2\n",
       "3499              51          7   4955.25          2          2          1\n",
       "3500             144          6   1785.86          1          3          4\n",
       "\n",
       "[3416 rows x 6 columns]"
      ]
     },
     "execution_count": 20,
     "metadata": {},
     "output_type": "execute_result"
    }
   ],
   "source": [
    "# RFM_table dataset\n",
    "rfm_table"
   ]
  },
  {
   "cell_type": "code",
   "execution_count": 21,
   "metadata": {},
   "outputs": [],
   "source": [
    "rfm_table['rfm_score'] = 100*rfm_table['r_quartile'].astype(int) + 10*rfm_table['f_quartile'].astype(int) + rfm_table['m_quartile'].astype(int)"
   ]
  },
  {
   "cell_type": "code",
   "execution_count": 22,
   "metadata": {},
   "outputs": [],
   "source": [
    "# Assigning a title to a cuustomer.\n",
    "# Platinum corresponds to highest range of RFM score down to Bronze to lowest range of RFM score.\n",
    "\n",
    "rfm_table['customer_title'] = pd.qcut(rfm_table['rfm_score'], 4, ['Bronze','Silver','Gold','Platinum'])"
   ]
  },
  {
   "cell_type": "code",
   "execution_count": 23,
   "metadata": {},
   "outputs": [
    {
     "data": {
      "text/html": [
       "<div>\n",
       "<style scoped>\n",
       "    .dataframe tbody tr th:only-of-type {\n",
       "        vertical-align: middle;\n",
       "    }\n",
       "\n",
       "    .dataframe tbody tr th {\n",
       "        vertical-align: top;\n",
       "    }\n",
       "\n",
       "    .dataframe thead th {\n",
       "        text-align: right;\n",
       "    }\n",
       "</style>\n",
       "<table border=\"1\" class=\"dataframe\">\n",
       "  <thead>\n",
       "    <tr style=\"text-align: right;\">\n",
       "      <th></th>\n",
       "      <th>recency</th>\n",
       "      <th>frequency</th>\n",
       "      <th>monetory</th>\n",
       "      <th>r_quartile</th>\n",
       "      <th>f_quartile</th>\n",
       "      <th>m_quartile</th>\n",
       "      <th>rfm_score</th>\n",
       "      <th>customer_title</th>\n",
       "    </tr>\n",
       "    <tr>\n",
       "      <th>customer_id</th>\n",
       "      <th></th>\n",
       "      <th></th>\n",
       "      <th></th>\n",
       "      <th></th>\n",
       "      <th></th>\n",
       "      <th></th>\n",
       "      <th></th>\n",
       "      <th></th>\n",
       "    </tr>\n",
       "  </thead>\n",
       "  <tbody>\n",
       "    <tr>\n",
       "      <th>1</th>\n",
       "      <td>7</td>\n",
       "      <td>11</td>\n",
       "      <td>3018.09</td>\n",
       "      <td>4</td>\n",
       "      <td>1</td>\n",
       "      <td>2</td>\n",
       "      <td>412</td>\n",
       "      <td>Platinum</td>\n",
       "    </tr>\n",
       "    <tr>\n",
       "      <th>2</th>\n",
       "      <td>128</td>\n",
       "      <td>3</td>\n",
       "      <td>2226.26</td>\n",
       "      <td>1</td>\n",
       "      <td>4</td>\n",
       "      <td>3</td>\n",
       "      <td>143</td>\n",
       "      <td>Bronze</td>\n",
       "    </tr>\n",
       "    <tr>\n",
       "      <th>3</th>\n",
       "      <td>102</td>\n",
       "      <td>8</td>\n",
       "      <td>3362.81</td>\n",
       "      <td>1</td>\n",
       "      <td>1</td>\n",
       "      <td>2</td>\n",
       "      <td>112</td>\n",
       "      <td>Bronze</td>\n",
       "    </tr>\n",
       "    <tr>\n",
       "      <th>4</th>\n",
       "      <td>195</td>\n",
       "      <td>2</td>\n",
       "      <td>220.57</td>\n",
       "      <td>1</td>\n",
       "      <td>4</td>\n",
       "      <td>4</td>\n",
       "      <td>144</td>\n",
       "      <td>Bronze</td>\n",
       "    </tr>\n",
       "    <tr>\n",
       "      <th>5</th>\n",
       "      <td>16</td>\n",
       "      <td>6</td>\n",
       "      <td>2394.94</td>\n",
       "      <td>4</td>\n",
       "      <td>3</td>\n",
       "      <td>3</td>\n",
       "      <td>433</td>\n",
       "      <td>Platinum</td>\n",
       "    </tr>\n",
       "    <tr>\n",
       "      <th>...</th>\n",
       "      <td>...</td>\n",
       "      <td>...</td>\n",
       "      <td>...</td>\n",
       "      <td>...</td>\n",
       "      <td>...</td>\n",
       "      <td>...</td>\n",
       "      <td>...</td>\n",
       "      <td>...</td>\n",
       "    </tr>\n",
       "    <tr>\n",
       "      <th>3496</th>\n",
       "      <td>256</td>\n",
       "      <td>4</td>\n",
       "      <td>2045.84</td>\n",
       "      <td>1</td>\n",
       "      <td>4</td>\n",
       "      <td>3</td>\n",
       "      <td>143</td>\n",
       "      <td>Bronze</td>\n",
       "    </tr>\n",
       "    <tr>\n",
       "      <th>3497</th>\n",
       "      <td>52</td>\n",
       "      <td>3</td>\n",
       "      <td>1648.32</td>\n",
       "      <td>2</td>\n",
       "      <td>4</td>\n",
       "      <td>4</td>\n",
       "      <td>244</td>\n",
       "      <td>Silver</td>\n",
       "    </tr>\n",
       "    <tr>\n",
       "      <th>3498</th>\n",
       "      <td>127</td>\n",
       "      <td>6</td>\n",
       "      <td>3147.33</td>\n",
       "      <td>1</td>\n",
       "      <td>3</td>\n",
       "      <td>2</td>\n",
       "      <td>132</td>\n",
       "      <td>Bronze</td>\n",
       "    </tr>\n",
       "    <tr>\n",
       "      <th>3499</th>\n",
       "      <td>51</td>\n",
       "      <td>7</td>\n",
       "      <td>4955.25</td>\n",
       "      <td>2</td>\n",
       "      <td>2</td>\n",
       "      <td>1</td>\n",
       "      <td>221</td>\n",
       "      <td>Silver</td>\n",
       "    </tr>\n",
       "    <tr>\n",
       "      <th>3500</th>\n",
       "      <td>144</td>\n",
       "      <td>6</td>\n",
       "      <td>1785.86</td>\n",
       "      <td>1</td>\n",
       "      <td>3</td>\n",
       "      <td>4</td>\n",
       "      <td>134</td>\n",
       "      <td>Bronze</td>\n",
       "    </tr>\n",
       "  </tbody>\n",
       "</table>\n",
       "<p>3416 rows × 8 columns</p>\n",
       "</div>"
      ],
      "text/plain": [
       "             recency  frequency  monetory r_quartile f_quartile m_quartile  \\\n",
       "customer_id                                                                  \n",
       "1                  7         11   3018.09          4          1          2   \n",
       "2                128          3   2226.26          1          4          3   \n",
       "3                102          8   3362.81          1          1          2   \n",
       "4                195          2    220.57          1          4          4   \n",
       "5                 16          6   2394.94          4          3          3   \n",
       "...              ...        ...       ...        ...        ...        ...   \n",
       "3496             256          4   2045.84          1          4          3   \n",
       "3497              52          3   1648.32          2          4          4   \n",
       "3498             127          6   3147.33          1          3          2   \n",
       "3499              51          7   4955.25          2          2          1   \n",
       "3500             144          6   1785.86          1          3          4   \n",
       "\n",
       "             rfm_score customer_title  \n",
       "customer_id                            \n",
       "1                  412       Platinum  \n",
       "2                  143         Bronze  \n",
       "3                  112         Bronze  \n",
       "4                  144         Bronze  \n",
       "5                  433       Platinum  \n",
       "...                ...            ...  \n",
       "3496               143         Bronze  \n",
       "3497               244         Silver  \n",
       "3498               132         Bronze  \n",
       "3499               221         Silver  \n",
       "3500               134         Bronze  \n",
       "\n",
       "[3416 rows x 8 columns]"
      ]
     },
     "execution_count": 23,
     "metadata": {},
     "output_type": "execute_result"
    }
   ],
   "source": [
    "# RFM table dataset\n",
    "\n",
    "rfm_table"
   ]
  },
  {
   "cell_type": "markdown",
   "metadata": {},
   "source": [
    "Merging both RFM Table with Transaction and Customer Tables"
   ]
  },
  {
   "cell_type": "markdown",
   "metadata": {},
   "source": [
    "The RFM_Table dataframe is merged with the Transactions and Customer Demographics datasets, to gain depper insights of Customer Segemnts along with transactions. The dataframes are joined based on customer_ids from both the datasets"
   ]
  },
  {
   "cell_type": "code",
   "execution_count": 24,
   "metadata": {},
   "outputs": [],
   "source": [
    "cust_trans_rfm = pd.merge(merged_data, rfm_table, left_on='customer_id', right_on='customer_id', how = 'inner')"
   ]
  },
  {
   "cell_type": "code",
   "execution_count": 25,
   "metadata": {},
   "outputs": [
    {
     "data": {
      "text/html": [
       "<div>\n",
       "<style scoped>\n",
       "    .dataframe tbody tr th:only-of-type {\n",
       "        vertical-align: middle;\n",
       "    }\n",
       "\n",
       "    .dataframe tbody tr th {\n",
       "        vertical-align: top;\n",
       "    }\n",
       "\n",
       "    .dataframe thead th {\n",
       "        text-align: right;\n",
       "    }\n",
       "</style>\n",
       "<table border=\"1\" class=\"dataframe\">\n",
       "  <thead>\n",
       "    <tr style=\"text-align: right;\">\n",
       "      <th></th>\n",
       "      <th>transaction_id</th>\n",
       "      <th>product_id</th>\n",
       "      <th>customer_id</th>\n",
       "      <th>transaction_date</th>\n",
       "      <th>online_order</th>\n",
       "      <th>order_status</th>\n",
       "      <th>brand</th>\n",
       "      <th>product_line</th>\n",
       "      <th>product_class</th>\n",
       "      <th>product_size</th>\n",
       "      <th>...</th>\n",
       "      <th>tenure</th>\n",
       "      <th>Age</th>\n",
       "      <th>recency</th>\n",
       "      <th>frequency</th>\n",
       "      <th>monetory</th>\n",
       "      <th>r_quartile</th>\n",
       "      <th>f_quartile</th>\n",
       "      <th>m_quartile</th>\n",
       "      <th>rfm_score</th>\n",
       "      <th>customer_title</th>\n",
       "    </tr>\n",
       "  </thead>\n",
       "  <tbody>\n",
       "    <tr>\n",
       "      <th>0</th>\n",
       "      <td>1</td>\n",
       "      <td>2</td>\n",
       "      <td>2950</td>\n",
       "      <td>2017-02-25</td>\n",
       "      <td>0.0</td>\n",
       "      <td>Approved</td>\n",
       "      <td>Solex</td>\n",
       "      <td>Standard</td>\n",
       "      <td>medium</td>\n",
       "      <td>medium</td>\n",
       "      <td>...</td>\n",
       "      <td>10.0</td>\n",
       "      <td>67</td>\n",
       "      <td>75</td>\n",
       "      <td>3</td>\n",
       "      <td>645.99</td>\n",
       "      <td>2</td>\n",
       "      <td>4</td>\n",
       "      <td>4</td>\n",
       "      <td>244</td>\n",
       "      <td>Silver</td>\n",
       "    </tr>\n",
       "    <tr>\n",
       "      <th>1</th>\n",
       "      <td>11065</td>\n",
       "      <td>1</td>\n",
       "      <td>2950</td>\n",
       "      <td>2017-10-16</td>\n",
       "      <td>0.0</td>\n",
       "      <td>Approved</td>\n",
       "      <td>Giant Bicycles</td>\n",
       "      <td>Standard</td>\n",
       "      <td>medium</td>\n",
       "      <td>medium</td>\n",
       "      <td>...</td>\n",
       "      <td>10.0</td>\n",
       "      <td>67</td>\n",
       "      <td>75</td>\n",
       "      <td>3</td>\n",
       "      <td>645.99</td>\n",
       "      <td>2</td>\n",
       "      <td>4</td>\n",
       "      <td>4</td>\n",
       "      <td>244</td>\n",
       "      <td>Silver</td>\n",
       "    </tr>\n",
       "    <tr>\n",
       "      <th>2</th>\n",
       "      <td>18923</td>\n",
       "      <td>62</td>\n",
       "      <td>2950</td>\n",
       "      <td>2017-04-26</td>\n",
       "      <td>0.0</td>\n",
       "      <td>Approved</td>\n",
       "      <td>Solex</td>\n",
       "      <td>Standard</td>\n",
       "      <td>medium</td>\n",
       "      <td>medium</td>\n",
       "      <td>...</td>\n",
       "      <td>10.0</td>\n",
       "      <td>67</td>\n",
       "      <td>75</td>\n",
       "      <td>3</td>\n",
       "      <td>645.99</td>\n",
       "      <td>2</td>\n",
       "      <td>4</td>\n",
       "      <td>4</td>\n",
       "      <td>244</td>\n",
       "      <td>Silver</td>\n",
       "    </tr>\n",
       "    <tr>\n",
       "      <th>3</th>\n",
       "      <td>2</td>\n",
       "      <td>3</td>\n",
       "      <td>3120</td>\n",
       "      <td>2017-05-21</td>\n",
       "      <td>1.0</td>\n",
       "      <td>Approved</td>\n",
       "      <td>Trek Bicycles</td>\n",
       "      <td>Standard</td>\n",
       "      <td>medium</td>\n",
       "      <td>large</td>\n",
       "      <td>...</td>\n",
       "      <td>10.0</td>\n",
       "      <td>43</td>\n",
       "      <td>20</td>\n",
       "      <td>7</td>\n",
       "      <td>4179.11</td>\n",
       "      <td>3</td>\n",
       "      <td>2</td>\n",
       "      <td>1</td>\n",
       "      <td>321</td>\n",
       "      <td>Gold</td>\n",
       "    </tr>\n",
       "    <tr>\n",
       "      <th>4</th>\n",
       "      <td>6862</td>\n",
       "      <td>4</td>\n",
       "      <td>3120</td>\n",
       "      <td>2017-10-05</td>\n",
       "      <td>0.0</td>\n",
       "      <td>Approved</td>\n",
       "      <td>Giant Bicycles</td>\n",
       "      <td>Standard</td>\n",
       "      <td>high</td>\n",
       "      <td>medium</td>\n",
       "      <td>...</td>\n",
       "      <td>10.0</td>\n",
       "      <td>43</td>\n",
       "      <td>20</td>\n",
       "      <td>7</td>\n",
       "      <td>4179.11</td>\n",
       "      <td>3</td>\n",
       "      <td>2</td>\n",
       "      <td>1</td>\n",
       "      <td>321</td>\n",
       "      <td>Gold</td>\n",
       "    </tr>\n",
       "    <tr>\n",
       "      <th>...</th>\n",
       "      <td>...</td>\n",
       "      <td>...</td>\n",
       "      <td>...</td>\n",
       "      <td>...</td>\n",
       "      <td>...</td>\n",
       "      <td>...</td>\n",
       "      <td>...</td>\n",
       "      <td>...</td>\n",
       "      <td>...</td>\n",
       "      <td>...</td>\n",
       "      <td>...</td>\n",
       "      <td>...</td>\n",
       "      <td>...</td>\n",
       "      <td>...</td>\n",
       "      <td>...</td>\n",
       "      <td>...</td>\n",
       "      <td>...</td>\n",
       "      <td>...</td>\n",
       "      <td>...</td>\n",
       "      <td>...</td>\n",
       "      <td>...</td>\n",
       "    </tr>\n",
       "    <tr>\n",
       "      <th>19349</th>\n",
       "      <td>18735</td>\n",
       "      <td>45</td>\n",
       "      <td>3168</td>\n",
       "      <td>2017-02-21</td>\n",
       "      <td>1.0</td>\n",
       "      <td>Approved</td>\n",
       "      <td>Solex</td>\n",
       "      <td>Standard</td>\n",
       "      <td>medium</td>\n",
       "      <td>medium</td>\n",
       "      <td>...</td>\n",
       "      <td>22.0</td>\n",
       "      <td>46</td>\n",
       "      <td>91</td>\n",
       "      <td>4</td>\n",
       "      <td>5170.51</td>\n",
       "      <td>1</td>\n",
       "      <td>4</td>\n",
       "      <td>1</td>\n",
       "      <td>141</td>\n",
       "      <td>Bronze</td>\n",
       "    </tr>\n",
       "    <tr>\n",
       "      <th>19350</th>\n",
       "      <td>18789</td>\n",
       "      <td>83</td>\n",
       "      <td>3168</td>\n",
       "      <td>2017-04-11</td>\n",
       "      <td>0.0</td>\n",
       "      <td>Approved</td>\n",
       "      <td>Solex</td>\n",
       "      <td>Touring</td>\n",
       "      <td>medium</td>\n",
       "      <td>large</td>\n",
       "      <td>...</td>\n",
       "      <td>22.0</td>\n",
       "      <td>46</td>\n",
       "      <td>91</td>\n",
       "      <td>4</td>\n",
       "      <td>5170.51</td>\n",
       "      <td>1</td>\n",
       "      <td>4</td>\n",
       "      <td>1</td>\n",
       "      <td>141</td>\n",
       "      <td>Bronze</td>\n",
       "    </tr>\n",
       "    <tr>\n",
       "      <th>19351</th>\n",
       "      <td>19113</td>\n",
       "      <td>3</td>\n",
       "      <td>3168</td>\n",
       "      <td>2017-06-03</td>\n",
       "      <td>0.0</td>\n",
       "      <td>Approved</td>\n",
       "      <td>Trek Bicycles</td>\n",
       "      <td>Standard</td>\n",
       "      <td>medium</td>\n",
       "      <td>large</td>\n",
       "      <td>...</td>\n",
       "      <td>22.0</td>\n",
       "      <td>46</td>\n",
       "      <td>91</td>\n",
       "      <td>4</td>\n",
       "      <td>5170.51</td>\n",
       "      <td>1</td>\n",
       "      <td>4</td>\n",
       "      <td>1</td>\n",
       "      <td>141</td>\n",
       "      <td>Bronze</td>\n",
       "    </tr>\n",
       "    <tr>\n",
       "      <th>19352</th>\n",
       "      <td>19912</td>\n",
       "      <td>3</td>\n",
       "      <td>3168</td>\n",
       "      <td>2017-09-30</td>\n",
       "      <td>0.0</td>\n",
       "      <td>Approved</td>\n",
       "      <td>Trek Bicycles</td>\n",
       "      <td>Standard</td>\n",
       "      <td>medium</td>\n",
       "      <td>large</td>\n",
       "      <td>...</td>\n",
       "      <td>22.0</td>\n",
       "      <td>46</td>\n",
       "      <td>91</td>\n",
       "      <td>4</td>\n",
       "      <td>5170.51</td>\n",
       "      <td>1</td>\n",
       "      <td>4</td>\n",
       "      <td>1</td>\n",
       "      <td>141</td>\n",
       "      <td>Bronze</td>\n",
       "    </tr>\n",
       "    <tr>\n",
       "      <th>19353</th>\n",
       "      <td>18822</td>\n",
       "      <td>30</td>\n",
       "      <td>3464</td>\n",
       "      <td>2017-12-13</td>\n",
       "      <td>1.0</td>\n",
       "      <td>Approved</td>\n",
       "      <td>Solex</td>\n",
       "      <td>Standard</td>\n",
       "      <td>high</td>\n",
       "      <td>medium</td>\n",
       "      <td>...</td>\n",
       "      <td>4.0</td>\n",
       "      <td>40</td>\n",
       "      <td>17</td>\n",
       "      <td>1</td>\n",
       "      <td>299.27</td>\n",
       "      <td>4</td>\n",
       "      <td>4</td>\n",
       "      <td>4</td>\n",
       "      <td>444</td>\n",
       "      <td>Platinum</td>\n",
       "    </tr>\n",
       "  </tbody>\n",
       "</table>\n",
       "<p>19354 rows × 34 columns</p>\n",
       "</div>"
      ],
      "text/plain": [
       "       transaction_id  product_id  customer_id transaction_date  online_order  \\\n",
       "0                   1           2         2950       2017-02-25           0.0   \n",
       "1               11065           1         2950       2017-10-16           0.0   \n",
       "2               18923          62         2950       2017-04-26           0.0   \n",
       "3                   2           3         3120       2017-05-21           1.0   \n",
       "4                6862           4         3120       2017-10-05           0.0   \n",
       "...               ...         ...          ...              ...           ...   \n",
       "19349           18735          45         3168       2017-02-21           1.0   \n",
       "19350           18789          83         3168       2017-04-11           0.0   \n",
       "19351           19113           3         3168       2017-06-03           0.0   \n",
       "19352           19912           3         3168       2017-09-30           0.0   \n",
       "19353           18822          30         3464       2017-12-13           1.0   \n",
       "\n",
       "      order_status           brand product_line product_class product_size  \\\n",
       "0         Approved           Solex     Standard        medium       medium   \n",
       "1         Approved  Giant Bicycles     Standard        medium       medium   \n",
       "2         Approved           Solex     Standard        medium       medium   \n",
       "3         Approved   Trek Bicycles     Standard        medium        large   \n",
       "4         Approved  Giant Bicycles     Standard          high       medium   \n",
       "...            ...             ...          ...           ...          ...   \n",
       "19349     Approved           Solex     Standard        medium       medium   \n",
       "19350     Approved           Solex      Touring        medium        large   \n",
       "19351     Approved   Trek Bicycles     Standard        medium        large   \n",
       "19352     Approved   Trek Bicycles     Standard        medium        large   \n",
       "19353     Approved           Solex     Standard          high       medium   \n",
       "\n",
       "       ...  tenure  Age  recency  frequency monetory r_quartile f_quartile  \\\n",
       "0      ...    10.0   67       75          3   645.99          2          4   \n",
       "1      ...    10.0   67       75          3   645.99          2          4   \n",
       "2      ...    10.0   67       75          3   645.99          2          4   \n",
       "3      ...    10.0   43       20          7  4179.11          3          2   \n",
       "4      ...    10.0   43       20          7  4179.11          3          2   \n",
       "...    ...     ...  ...      ...        ...      ...        ...        ...   \n",
       "19349  ...    22.0   46       91          4  5170.51          1          4   \n",
       "19350  ...    22.0   46       91          4  5170.51          1          4   \n",
       "19351  ...    22.0   46       91          4  5170.51          1          4   \n",
       "19352  ...    22.0   46       91          4  5170.51          1          4   \n",
       "19353  ...     4.0   40       17          1   299.27          4          4   \n",
       "\n",
       "       m_quartile rfm_score customer_title  \n",
       "0               4       244         Silver  \n",
       "1               4       244         Silver  \n",
       "2               4       244         Silver  \n",
       "3               1       321           Gold  \n",
       "4               1       321           Gold  \n",
       "...           ...       ...            ...  \n",
       "19349           1       141         Bronze  \n",
       "19350           1       141         Bronze  \n",
       "19351           1       141         Bronze  \n",
       "19352           1       141         Bronze  \n",
       "19353           4       444       Platinum  \n",
       "\n",
       "[19354 rows x 34 columns]"
      ]
     },
     "execution_count": 25,
     "metadata": {},
     "output_type": "execute_result"
    }
   ],
   "source": [
    "cust_trans_rfm"
   ]
  },
  {
   "cell_type": "code",
   "execution_count": 26,
   "metadata": {},
   "outputs": [
    {
     "name": "stdout",
     "output_type": "stream",
     "text": [
      "<class 'pandas.core.frame.DataFrame'>\n",
      "Int64Index: 19354 entries, 0 to 19353\n",
      "Data columns (total 34 columns):\n",
      " #   Column                               Non-Null Count  Dtype         \n",
      "---  ------                               --------------  -----         \n",
      " 0   transaction_id                       19354 non-null  int64         \n",
      " 1   product_id                           19354 non-null  int64         \n",
      " 2   customer_id                          19354 non-null  int64         \n",
      " 3   transaction_date                     19354 non-null  datetime64[ns]\n",
      " 4   online_order                         19354 non-null  float64       \n",
      " 5   order_status                         19354 non-null  object        \n",
      " 6   brand                                19354 non-null  object        \n",
      " 7   product_line                         19354 non-null  object        \n",
      " 8   product_class                        19354 non-null  object        \n",
      " 9   product_size                         19354 non-null  object        \n",
      " 10  list_price                           19354 non-null  float64       \n",
      " 11  standard_cost                        19354 non-null  float64       \n",
      " 12  product_first_sold_date              19354 non-null  float64       \n",
      " 13  Profit                               19354 non-null  float64       \n",
      " 14  first_name                           19354 non-null  object        \n",
      " 15  last_name                            19354 non-null  object        \n",
      " 16  gender                               19354 non-null  object        \n",
      " 17  past_3_years_bike_related_purchases  19354 non-null  int64         \n",
      " 18  DOB                                  19354 non-null  object        \n",
      " 19  job_title                            19354 non-null  object        \n",
      " 20  job_industry_category                19354 non-null  object        \n",
      " 21  wealth_segment                       19354 non-null  object        \n",
      " 22  deceased_indicator                   19354 non-null  object        \n",
      " 23  owns_car                             19354 non-null  object        \n",
      " 24  tenure                               19354 non-null  float64       \n",
      " 25  Age                                  19354 non-null  int64         \n",
      " 26  recency                              19354 non-null  int64         \n",
      " 27  frequency                            19354 non-null  int64         \n",
      " 28  monetory                             19354 non-null  float64       \n",
      " 29  r_quartile                           19354 non-null  category      \n",
      " 30  f_quartile                           19354 non-null  category      \n",
      " 31  m_quartile                           19354 non-null  category      \n",
      " 32  rfm_score                            19354 non-null  int32         \n",
      " 33  customer_title                       19354 non-null  category      \n",
      "dtypes: category(4), datetime64[ns](1), float64(7), int32(1), int64(7), object(14)\n",
      "memory usage: 4.6+ MB\n"
     ]
    }
   ],
   "source": [
    "cust_trans_rfm.info()"
   ]
  },
  {
   "cell_type": "markdown",
   "metadata": {},
   "source": [
    "Creating an Age Group Feature"
   ]
  },
  {
   "cell_type": "code",
   "execution_count": 27,
   "metadata": {},
   "outputs": [],
   "source": [
    "cust_trans_rfm['Age Group'] = cust_trans_rfm['Age'].apply(lambda x: (math.floor(x/10) + 1)*10)"
   ]
  },
  {
   "cell_type": "code",
   "execution_count": 28,
   "metadata": {},
   "outputs": [
    {
     "data": {
      "text/plain": [
       "count    19354.000000\n",
       "mean       291.692002\n",
       "std        106.378543\n",
       "min        111.000000\n",
       "25%        212.000000\n",
       "50%        311.000000\n",
       "75%        411.000000\n",
       "max        444.000000\n",
       "Name: rfm_score, dtype: float64"
      ]
     },
     "execution_count": 28,
     "metadata": {},
     "output_type": "execute_result"
    }
   ],
   "source": [
    "cust_trans_rfm['rfm_score'].describe()"
   ]
  },
  {
   "cell_type": "markdown",
   "metadata": {},
   "source": [
    "Creating a Detail Customer title / tag based on RFM Score"
   ]
  },
  {
   "cell_type": "markdown",
   "metadata": {},
   "source": [
    "An extended version of customer title is made which divides the entire number of customers into 11 groups. The groups are mainly Platinum Customers, Very Loyal, Becoming Loyal, Recent Customers, Potential Customers, Late Bloomer, Loosing Customers, High Risk Customers, Almost Lost Customers, Evasive Customers and Lost Customers.\n",
    "The demarkation of customers into the above mentioned groups is based on their RFM scores."
   ]
  },
  {
   "cell_type": "code",
   "execution_count": 32,
   "metadata": {},
   "outputs": [],
   "source": [
    "# Function as a lookup to appropiate customer titles based on RFM score.\n",
    "def cust_score_title_lkup(col):\n",
    "    rfm_score = col[0]\n",
    "    if rfm_score >= 444:\n",
    "        return 'Platinum Customer'\n",
    "    elif rfm_score >=433 and rfm_score < 444:\n",
    "        return 'Very Loyal'\n",
    "    elif rfm_score >=421 and rfm_score < 433:\n",
    "        return 'Becoming Loyal'\n",
    "    elif rfm_score >=344 and rfm_score < 421:\n",
    "        return 'Recent Customer'\n",
    "    elif rfm_score >=323 and rfm_score < 344:\n",
    "        return 'Potential Customer'\n",
    "    elif rfm_score >=311 and rfm_score < 323:\n",
    "        return 'Late Bloomer'\n",
    "    elif rfm_score >=224 and rfm_score < 311:\n",
    "        return 'Loosing Customer'\n",
    "    elif rfm_score >=212 and rfm_score < 224:\n",
    "        return 'High Risk Customer'\n",
    "    elif rfm_score >=124 and rfm_score < 212:\n",
    "        return 'Almost Lost Customer'\n",
    "    elif rfm_score >=112 and rfm_score < 124:\n",
    "        return 'Evasive Customer'\n",
    "    else :\n",
    "        return 'Lost Customer'"
   ]
  },
  {
   "cell_type": "code",
   "execution_count": 33,
   "metadata": {},
   "outputs": [],
   "source": [
    "cust_trans_rfm['detail_cust_title'] = cust_trans_rfm[['rfm_score']].apply(cust_score_title_lkup, axis=1)"
   ]
  },
  {
   "cell_type": "code",
   "execution_count": 34,
   "metadata": {},
   "outputs": [],
   "source": [
    "# Function to provide ranks to the customers based on their title.\n",
    "def get_rank(cols):\n",
    "    \n",
    "    title = cols[0]\n",
    "    \n",
    "    if title=='Platinum Customer':\n",
    "        return 1\n",
    "    elif title=='Very Loyal':\n",
    "        return 2\n",
    "    elif title == 'Becoming Loyal':\n",
    "        return 3\n",
    "    elif title == 'Recent Customer':\n",
    "        return 4\n",
    "    elif title=='Potential Customer':\n",
    "        return 5\n",
    "    elif title == 'Late Bloomer':\n",
    "        return 6\n",
    "    elif title == 'Loosing Customer':\n",
    "        return 7\n",
    "    elif title=='High Risk Customer':\n",
    "        return 8\n",
    "    elif title == 'Almost Lost Customer':\n",
    "        return 9\n",
    "    elif title == 'Evasive Customer':\n",
    "        return 10\n",
    "    else :\n",
    "        return 11"
   ]
  },
  {
   "cell_type": "code",
   "execution_count": 35,
   "metadata": {},
   "outputs": [],
   "source": [
    "# Applying the above functions and creating a new feature rank\n",
    "\n",
    "cust_trans_rfm['rank']=cust_trans_rfm[['detail_cust_title']].apply(get_rank, axis=1)"
   ]
  },
  {
   "cell_type": "markdown",
   "metadata": {},
   "source": [
    "2. Exporting to CSV File"
   ]
  },
  {
   "cell_type": "markdown",
   "metadata": {},
   "source": [
    "After performing data quality assessment(DQA), data cleaning and RFM Analysis on the dataset, it's time to export the dataset to a csv file for further exploratory data analysis (EDA) and this data will drive the Sales Customer Segmenation Dashboard developed in Tableau."
   ]
  },
  {
   "cell_type": "code",
   "execution_count": 36,
   "metadata": {},
   "outputs": [],
   "source": [
    "cust_trans_rfm.to_csv('Customer_Trans_RFM_Analysis.csv', index=False)"
   ]
  },
  {
   "cell_type": "code",
   "execution_count": 37,
   "metadata": {},
   "outputs": [
    {
     "name": "stdout",
     "output_type": "stream",
     "text": [
      "Total records in final dataset : 19354\n"
     ]
    }
   ],
   "source": [
    "print(\"Total records in final dataset : {}\".format(cust_trans_rfm.shape[0]))"
   ]
  },
  {
   "cell_type": "markdown",
   "metadata": {},
   "source": [
    "3. Data Analysis and Exploration"
   ]
  },
  {
   "cell_type": "markdown",
   "metadata": {},
   "source": [
    "3.1. New Customer vs Old Customer Age Distributions"
   ]
  },
  {
   "cell_type": "markdown",
   "metadata": {},
   "source": [
    "Most New / Old Customers are aged between 40-49. The lowest age groups are under 20 and 80+ for both Old and New Customers dataset.\n",
    "Among the New Customers the most populated age bracket is 20-29 and 60-69, while the maximum Old Customers are from the age bracket 50-69.\n",
    "There is a steep drop in number of customers in 30-39 age groupsd among the New Customers."
   ]
  },
  {
   "cell_type": "code",
   "execution_count": 38,
   "metadata": {},
   "outputs": [],
   "source": [
    "# Loading the New Customers Dataset\n",
    "new_cust = pd.read_csv('NewCustomerList_Cleaned.csv')"
   ]
  },
  {
   "cell_type": "code",
   "execution_count": 39,
   "metadata": {},
   "outputs": [
    {
     "name": "stderr",
     "output_type": "stream",
     "text": [
      "c:\\Program Files\\Python38\\lib\\site-packages\\seaborn\\distributions.py:2619: FutureWarning: `distplot` is a deprecated function and will be removed in a future version. Please adapt your code to use either `displot` (a figure-level function with similar flexibility) or `histplot` (an axes-level function for histograms).\n",
      "  warnings.warn(msg, FutureWarning)\n"
     ]
    },
    {
     "data": {
      "image/png": "[encoded data removed]",
      "text/plain": [
       "<Figure size 720x576 with 1 Axes>"
      ]
     },
     "metadata": {},
     "output_type": "display_data"
    }
   ],
   "source": [
    "plt.figure(figsize=(10,8))\n",
    "sns.distplot(new_cust['Age Group'], kde=False, bins=15)\n",
    "plt.xlabel('Age Group')\n",
    "plt.ylabel('Number of Customers')\n",
    "plt.title('New Customers - Age Distribution')\n",
    "\n",
    "plt.show()"
   ]
  },
  {
   "cell_type": "markdown",
   "metadata": {},
   "source": [
    "Here 20 = under 20, 30 = 20-29 age bracket"
   ]
  },
  {
   "cell_type": "code",
   "execution_count": 42,
   "metadata": {},
   "outputs": [
    {
     "data": {
      "image/png": "[encoded data removed]",
      "text/plain": [
       "<Figure size 720x576 with 1 Axes>"
      ]
     },
     "metadata": {},
     "output_type": "display_data"
    }
   ],
   "source": [
    "plt.figure(figsize=(10,8))\n",
    "sns.distplot(cust_trans_rfm['Age Group'], kde=False, bins=15)\n",
    "plt.xlabel('Age Group')\n",
    "plt.ylabel('Number of Customers')\n",
    "plt.title('Old Customers - Age Distribution')\n",
    "\n",
    "plt.show()"
   ]
  },
  {
   "cell_type": "markdown",
   "metadata": {},
   "source": [
    "Here 20 = under 20, 30 = 20-29 age bracket"
   ]
  },
  {
   "cell_type": "markdown",
   "metadata": {},
   "source": [
    "3.2. Bike related purchases over last 3 years by gender"
   ]
  },
  {
   "cell_type": "code",
   "execution_count": 43,
   "metadata": {},
   "outputs": [],
   "source": [
    "cust_bike_purchase_by_gender = cust_trans_rfm.groupby('gender').agg({'past_3_years_bike_related_purchases' : sum}).reset_index()"
   ]
  },
  {
   "cell_type": "code",
   "execution_count": 46,
   "metadata": {},
   "outputs": [],
   "source": [
    "total_records = cust_trans_rfm['past_3_years_bike_related_purchases'].sum()"
   ]
  },
  {
   "cell_type": "code",
   "execution_count": 47,
   "metadata": {},
   "outputs": [],
   "source": [
    "cust_bike_purchase_by_gender['Percent_of_total'] = (cust_bike_purchase_by_gender['past_3_years_bike_related_purchases']\n",
    "                                                        /total_records)*100"
   ]
  },
  {
   "cell_type": "code",
   "execution_count": 48,
   "metadata": {},
   "outputs": [
    {
     "data": {
      "text/html": [
       "<div>\n",
       "<style scoped>\n",
       "    .dataframe tbody tr th:only-of-type {\n",
       "        vertical-align: middle;\n",
       "    }\n",
       "\n",
       "    .dataframe tbody tr th {\n",
       "        vertical-align: top;\n",
       "    }\n",
       "\n",
       "    .dataframe thead th {\n",
       "        text-align: right;\n",
       "    }\n",
       "</style>\n",
       "<table border=\"1\" class=\"dataframe\">\n",
       "  <thead>\n",
       "    <tr style=\"text-align: right;\">\n",
       "      <th></th>\n",
       "      <th>gender</th>\n",
       "      <th>past_3_years_bike_related_purchases</th>\n",
       "      <th>Percent_of_total</th>\n",
       "    </tr>\n",
       "  </thead>\n",
       "  <tbody>\n",
       "    <tr>\n",
       "      <th>0</th>\n",
       "      <td>Female</td>\n",
       "      <td>478488</td>\n",
       "      <td>50.503731</td>\n",
       "    </tr>\n",
       "    <tr>\n",
       "      <th>1</th>\n",
       "      <td>Male</td>\n",
       "      <td>468943</td>\n",
       "      <td>49.496269</td>\n",
       "    </tr>\n",
       "  </tbody>\n",
       "</table>\n",
       "</div>"
      ],
      "text/plain": [
       "   gender  past_3_years_bike_related_purchases  Percent_of_total\n",
       "0  Female                               478488         50.503731\n",
       "1    Male                               468943         49.496269"
      ]
     },
     "execution_count": 48,
     "metadata": {},
     "output_type": "execute_result"
    }
   ],
   "source": [
    "cust_bike_purchase_by_gender"
   ]
  },
  {
   "cell_type": "markdown",
   "metadata": {},
   "source": [
    "Over the last 3 years approximately 51% of the buyers are women and 49% were male buyers.\n",
    "Female purchases are approximately 10,000 more than male (numerically). Gender wise majority of the bike sales comes from female customers."
   ]
  },
  {
   "cell_type": "code",
   "execution_count": 49,
   "metadata": {},
   "outputs": [
    {
     "data": {
      "image/png": "[encoded data removed]",
      "text/plain": [
       "<Figure size 576x360 with 1 Axes>"
      ]
     },
     "metadata": {},
     "output_type": "display_data"
    }
   ],
   "source": [
    "plt.figure(figsize=(8,5))\n",
    "sns.barplot(x='gender',y='Percent_of_total',data=cust_bike_purchase_by_gender)\n",
    "plt.xlabel('Gender')\n",
    "plt.ylabel('Percent of Total Purchases')\n",
    "plt.title('Female vs Male past 3 years Bike purchases')\n",
    "\n",
    "plt.show()"
   ]
  },
  {
   "cell_type": "markdown",
   "metadata": {},
   "source": [
    "3.3 Job Industry Customer Distribution"
   ]
  },
  {
   "cell_type": "code",
   "execution_count": 50,
   "metadata": {},
   "outputs": [
    {
     "data": {
      "image/png": "[encoded data removed]",
      "text/plain": [
       "<Figure size 1080x576 with 1 Axes>"
      ]
     },
     "metadata": {},
     "output_type": "display_data"
    }
   ],
   "source": [
    "plt.figure(figsize=(15,8))\n",
    "sns.countplot(x='job_industry_category',data=new_cust[~(new_cust['job_industry_category']=='Missing')])\n",
    "plt.xlabel('Job Industry')\n",
    "plt.ylabel('Number of Customers')\n",
    "plt.title('New Customers - Job Industry Customer Distribution')\n",
    "\n",
    "plt.show()"
   ]
  },
  {
   "cell_type": "code",
   "execution_count": 51,
   "metadata": {},
   "outputs": [
    {
     "data": {
      "image/png": "[encoded data removed]",
      "text/plain": [
       "<Figure size 1080x576 with 1 Axes>"
      ]
     },
     "metadata": {},
     "output_type": "display_data"
    }
   ],
   "source": [
    "plt.figure(figsize=(15,8))\n",
    "sns.countplot(x='job_industry_category',data=cust_trans_rfm[~(cust_trans_rfm['job_industry_category']=='Missing')])\n",
    "plt.xlabel('Job Industry')\n",
    "plt.ylabel('Number of Customers')\n",
    "plt.title('Old Customers - Job Industry Customer Distribution')\n",
    "\n",
    "plt.show()"
   ]
  },
  {
   "cell_type": "markdown",
   "metadata": {},
   "source": [
    "Among the New Customers the highest amount of sales comes from customers having a job in Manufacturing and Financial services sector. The samllest chunk of sales comes from customers in Agriculture sector and from Telecom sector with 3% sales only. Similar trend is observed among Old Customers."
   ]
  },
  {
   "cell_type": "markdown",
   "metadata": {},
   "source": [
    "3.4. Wealth Segmentation by Age Group"
   ]
  },
  {
   "cell_type": "markdown",
   "metadata": {},
   "source": [
    "New Customers"
   ]
  },
  {
   "cell_type": "code",
   "execution_count": 52,
   "metadata": {},
   "outputs": [],
   "source": [
    "wealth_age_seg_new = new_cust.groupby(['wealth_segment', 'Age Group']).size().reset_index()"
   ]
  },
  {
   "cell_type": "code",
   "execution_count": 54,
   "metadata": {},
   "outputs": [
    {
     "data": {
      "text/html": [
       "<div>\n",
       "<style scoped>\n",
       "    .dataframe tbody tr th:only-of-type {\n",
       "        vertical-align: middle;\n",
       "    }\n",
       "\n",
       "    .dataframe tbody tr th {\n",
       "        vertical-align: top;\n",
       "    }\n",
       "\n",
       "    .dataframe thead th {\n",
       "        text-align: right;\n",
       "    }\n",
       "</style>\n",
       "<table border=\"1\" class=\"dataframe\">\n",
       "  <thead>\n",
       "    <tr style=\"text-align: right;\">\n",
       "      <th></th>\n",
       "      <th>wealth_segment</th>\n",
       "      <th>Age Group</th>\n",
       "      <th>Number of Customers</th>\n",
       "    </tr>\n",
       "  </thead>\n",
       "  <tbody>\n",
       "    <tr>\n",
       "      <th>0</th>\n",
       "      <td>Affluent Customer</td>\n",
       "      <td>30</td>\n",
       "      <td>48</td>\n",
       "    </tr>\n",
       "    <tr>\n",
       "      <th>1</th>\n",
       "      <td>Affluent Customer</td>\n",
       "      <td>40</td>\n",
       "      <td>14</td>\n",
       "    </tr>\n",
       "    <tr>\n",
       "      <th>2</th>\n",
       "      <td>Affluent Customer</td>\n",
       "      <td>50</td>\n",
       "      <td>58</td>\n",
       "    </tr>\n",
       "    <tr>\n",
       "      <th>3</th>\n",
       "      <td>Affluent Customer</td>\n",
       "      <td>60</td>\n",
       "      <td>40</td>\n",
       "    </tr>\n",
       "    <tr>\n",
       "      <th>4</th>\n",
       "      <td>Affluent Customer</td>\n",
       "      <td>70</td>\n",
       "      <td>41</td>\n",
       "    </tr>\n",
       "    <tr>\n",
       "      <th>5</th>\n",
       "      <td>Affluent Customer</td>\n",
       "      <td>80</td>\n",
       "      <td>23</td>\n",
       "    </tr>\n",
       "    <tr>\n",
       "      <th>6</th>\n",
       "      <td>Affluent Customer</td>\n",
       "      <td>90</td>\n",
       "      <td>11</td>\n",
       "    </tr>\n",
       "    <tr>\n",
       "      <th>7</th>\n",
       "      <td>High Net Worth</td>\n",
       "      <td>30</td>\n",
       "      <td>36</td>\n",
       "    </tr>\n",
       "    <tr>\n",
       "      <th>8</th>\n",
       "      <td>High Net Worth</td>\n",
       "      <td>40</td>\n",
       "      <td>34</td>\n",
       "    </tr>\n",
       "    <tr>\n",
       "      <th>9</th>\n",
       "      <td>High Net Worth</td>\n",
       "      <td>50</td>\n",
       "      <td>53</td>\n",
       "    </tr>\n",
       "    <tr>\n",
       "      <th>10</th>\n",
       "      <td>High Net Worth</td>\n",
       "      <td>60</td>\n",
       "      <td>34</td>\n",
       "    </tr>\n",
       "    <tr>\n",
       "      <th>11</th>\n",
       "      <td>High Net Worth</td>\n",
       "      <td>70</td>\n",
       "      <td>51</td>\n",
       "    </tr>\n",
       "    <tr>\n",
       "      <th>12</th>\n",
       "      <td>High Net Worth</td>\n",
       "      <td>80</td>\n",
       "      <td>28</td>\n",
       "    </tr>\n",
       "    <tr>\n",
       "      <th>13</th>\n",
       "      <td>High Net Worth</td>\n",
       "      <td>90</td>\n",
       "      <td>13</td>\n",
       "    </tr>\n",
       "    <tr>\n",
       "      <th>14</th>\n",
       "      <td>Mass Customer</td>\n",
       "      <td>30</td>\n",
       "      <td>71</td>\n",
       "    </tr>\n",
       "    <tr>\n",
       "      <th>15</th>\n",
       "      <td>Mass Customer</td>\n",
       "      <td>40</td>\n",
       "      <td>51</td>\n",
       "    </tr>\n",
       "    <tr>\n",
       "      <th>16</th>\n",
       "      <td>Mass Customer</td>\n",
       "      <td>50</td>\n",
       "      <td>117</td>\n",
       "    </tr>\n",
       "    <tr>\n",
       "      <th>17</th>\n",
       "      <td>Mass Customer</td>\n",
       "      <td>60</td>\n",
       "      <td>96</td>\n",
       "    </tr>\n",
       "    <tr>\n",
       "      <th>18</th>\n",
       "      <td>Mass Customer</td>\n",
       "      <td>70</td>\n",
       "      <td>82</td>\n",
       "    </tr>\n",
       "    <tr>\n",
       "      <th>19</th>\n",
       "      <td>Mass Customer</td>\n",
       "      <td>80</td>\n",
       "      <td>57</td>\n",
       "    </tr>\n",
       "    <tr>\n",
       "      <th>20</th>\n",
       "      <td>Mass Customer</td>\n",
       "      <td>90</td>\n",
       "      <td>25</td>\n",
       "    </tr>\n",
       "  </tbody>\n",
       "</table>\n",
       "</div>"
      ],
      "text/plain": [
       "       wealth_segment  Age Group  Number of Customers\n",
       "0   Affluent Customer         30                   48\n",
       "1   Affluent Customer         40                   14\n",
       "2   Affluent Customer         50                   58\n",
       "3   Affluent Customer         60                   40\n",
       "4   Affluent Customer         70                   41\n",
       "5   Affluent Customer         80                   23\n",
       "6   Affluent Customer         90                   11\n",
       "7      High Net Worth         30                   36\n",
       "8      High Net Worth         40                   34\n",
       "9      High Net Worth         50                   53\n",
       "10     High Net Worth         60                   34\n",
       "11     High Net Worth         70                   51\n",
       "12     High Net Worth         80                   28\n",
       "13     High Net Worth         90                   13\n",
       "14      Mass Customer         30                   71\n",
       "15      Mass Customer         40                   51\n",
       "16      Mass Customer         50                  117\n",
       "17      Mass Customer         60                   96\n",
       "18      Mass Customer         70                   82\n",
       "19      Mass Customer         80                   57\n",
       "20      Mass Customer         90                   25"
      ]
     },
     "execution_count": 54,
     "metadata": {},
     "output_type": "execute_result"
    }
   ],
   "source": [
    "wealth_age_seg_new.rename(columns ={0:'Number of Customers'}, inplace=True)\n",
    "wealth_age_seg_new"
   ]
  },
  {
   "cell_type": "code",
   "execution_count": 55,
   "metadata": {},
   "outputs": [
    {
     "data": {
      "image/png": "[encoded data removed]",
      "text/plain": [
       "<Figure size 1080x576 with 1 Axes>"
      ]
     },
     "metadata": {},
     "output_type": "display_data"
    }
   ],
   "source": [
    "plt.figure(figsize=(15,8))\n",
    "sns.barplot(x='Age Group', y='Number of Customers' , hue='wealth_segment', data=wealth_age_seg_new)\n",
    "plt.xlabel('Age Group')\n",
    "plt.ylabel('Number of Customers')\n",
    "plt.title('New Customers - Wealth Segmentation by Age Group')\n",
    "plt.show()"
   ]
  },
  {
   "cell_type": "markdown",
   "metadata": {},
   "source": [
    "Across all Age Groups the maximum number of customers are classified as 'Mass Customers'. The next being 'High Net Worth'. However among 40-49 aged customers 'Affluent Customers' outperforms the 'High Net Worth' customers."
   ]
  },
  {
   "cell_type": "markdown",
   "metadata": {},
   "source": [
    "In all the age groups the most number of customers are 'Mass Customers'. The 2nd largest customer base being the 'High Net Worth' group.\n",
    "In the age group 40-49 the 'Affluent Customer' group outperforms 'High Net Worth' group"
   ]
  },
  {
   "cell_type": "markdown",
   "metadata": {},
   "source": [
    "Old Customers"
   ]
  },
  {
   "cell_type": "code",
   "execution_count": 56,
   "metadata": {},
   "outputs": [],
   "source": [
    "wealth_age_seg_old = cust_trans_rfm.groupby(['wealth_segment', 'Age Group']).size().reset_index()"
   ]
  },
  {
   "cell_type": "code",
   "execution_count": 57,
   "metadata": {},
   "outputs": [],
   "source": [
    "wealth_age_seg_old.rename(columns={0:'No. Of Customers'}, inplace=True)"
   ]
  },
  {
   "cell_type": "code",
   "execution_count": 61,
   "metadata": {},
   "outputs": [
    {
     "data": {
      "text/html": [
       "<div>\n",
       "<style scoped>\n",
       "    .dataframe tbody tr th:only-of-type {\n",
       "        vertical-align: middle;\n",
       "    }\n",
       "\n",
       "    .dataframe tbody tr th {\n",
       "        vertical-align: top;\n",
       "    }\n",
       "\n",
       "    .dataframe thead th {\n",
       "        text-align: right;\n",
       "    }\n",
       "</style>\n",
       "<table border=\"1\" class=\"dataframe\">\n",
       "  <thead>\n",
       "    <tr style=\"text-align: right;\">\n",
       "      <th></th>\n",
       "      <th>wealth_segment</th>\n",
       "      <th>Age Group</th>\n",
       "      <th>No. Of Customers</th>\n",
       "    </tr>\n",
       "  </thead>\n",
       "  <tbody>\n",
       "    <tr>\n",
       "      <th>0</th>\n",
       "      <td>Affluent Customer</td>\n",
       "      <td>30</td>\n",
       "      <td>871</td>\n",
       "    </tr>\n",
       "    <tr>\n",
       "      <th>1</th>\n",
       "      <td>Affluent Customer</td>\n",
       "      <td>40</td>\n",
       "      <td>756</td>\n",
       "    </tr>\n",
       "    <tr>\n",
       "      <th>2</th>\n",
       "      <td>Affluent Customer</td>\n",
       "      <td>50</td>\n",
       "      <td>1551</td>\n",
       "    </tr>\n",
       "    <tr>\n",
       "      <th>3</th>\n",
       "      <td>Affluent Customer</td>\n",
       "      <td>60</td>\n",
       "      <td>883</td>\n",
       "    </tr>\n",
       "    <tr>\n",
       "      <th>4</th>\n",
       "      <td>Affluent Customer</td>\n",
       "      <td>70</td>\n",
       "      <td>644</td>\n",
       "    </tr>\n",
       "    <tr>\n",
       "      <th>5</th>\n",
       "      <td>Affluent Customer</td>\n",
       "      <td>80</td>\n",
       "      <td>5</td>\n",
       "    </tr>\n",
       "    <tr>\n",
       "      <th>6</th>\n",
       "      <td>Affluent Customer</td>\n",
       "      <td>100</td>\n",
       "      <td>10</td>\n",
       "    </tr>\n",
       "    <tr>\n",
       "      <th>7</th>\n",
       "      <td>High Net Worth</td>\n",
       "      <td>30</td>\n",
       "      <td>735</td>\n",
       "    </tr>\n",
       "    <tr>\n",
       "      <th>8</th>\n",
       "      <td>High Net Worth</td>\n",
       "      <td>40</td>\n",
       "      <td>848</td>\n",
       "    </tr>\n",
       "    <tr>\n",
       "      <th>9</th>\n",
       "      <td>High Net Worth</td>\n",
       "      <td>50</td>\n",
       "      <td>1732</td>\n",
       "    </tr>\n",
       "    <tr>\n",
       "      <th>10</th>\n",
       "      <td>High Net Worth</td>\n",
       "      <td>60</td>\n",
       "      <td>918</td>\n",
       "    </tr>\n",
       "    <tr>\n",
       "      <th>11</th>\n",
       "      <td>High Net Worth</td>\n",
       "      <td>70</td>\n",
       "      <td>691</td>\n",
       "    </tr>\n",
       "    <tr>\n",
       "      <th>12</th>\n",
       "      <td>High Net Worth</td>\n",
       "      <td>80</td>\n",
       "      <td>7</td>\n",
       "    </tr>\n",
       "    <tr>\n",
       "      <th>13</th>\n",
       "      <td>Mass Customer</td>\n",
       "      <td>30</td>\n",
       "      <td>1512</td>\n",
       "    </tr>\n",
       "    <tr>\n",
       "      <th>14</th>\n",
       "      <td>Mass Customer</td>\n",
       "      <td>40</td>\n",
       "      <td>1645</td>\n",
       "    </tr>\n",
       "    <tr>\n",
       "      <th>15</th>\n",
       "      <td>Mass Customer</td>\n",
       "      <td>50</td>\n",
       "      <td>3397</td>\n",
       "    </tr>\n",
       "    <tr>\n",
       "      <th>16</th>\n",
       "      <td>Mass Customer</td>\n",
       "      <td>60</td>\n",
       "      <td>1636</td>\n",
       "    </tr>\n",
       "    <tr>\n",
       "      <th>17</th>\n",
       "      <td>Mass Customer</td>\n",
       "      <td>70</td>\n",
       "      <td>1505</td>\n",
       "    </tr>\n",
       "    <tr>\n",
       "      <th>18</th>\n",
       "      <td>Mass Customer</td>\n",
       "      <td>90</td>\n",
       "      <td>8</td>\n",
       "    </tr>\n",
       "  </tbody>\n",
       "</table>\n",
       "</div>"
      ],
      "text/plain": [
       "       wealth_segment  Age Group  No. Of Customers\n",
       "0   Affluent Customer         30               871\n",
       "1   Affluent Customer         40               756\n",
       "2   Affluent Customer         50              1551\n",
       "3   Affluent Customer         60               883\n",
       "4   Affluent Customer         70               644\n",
       "5   Affluent Customer         80                 5\n",
       "6   Affluent Customer        100                10\n",
       "7      High Net Worth         30               735\n",
       "8      High Net Worth         40               848\n",
       "9      High Net Worth         50              1732\n",
       "10     High Net Worth         60               918\n",
       "11     High Net Worth         70               691\n",
       "12     High Net Worth         80                 7\n",
       "13      Mass Customer         30              1512\n",
       "14      Mass Customer         40              1645\n",
       "15      Mass Customer         50              3397\n",
       "16      Mass Customer         60              1636\n",
       "17      Mass Customer         70              1505\n",
       "18      Mass Customer         90                 8"
      ]
     },
     "execution_count": 61,
     "metadata": {},
     "output_type": "execute_result"
    }
   ],
   "source": [
    "wealth_age_seg_old"
   ]
  },
  {
   "cell_type": "code",
   "execution_count": 62,
   "metadata": {},
   "outputs": [
    {
     "data": {
      "image/png": "[encoded data removed]",
      "text/plain": [
       "<Figure size 1080x576 with 1 Axes>"
      ]
     },
     "metadata": {},
     "output_type": "display_data"
    }
   ],
   "source": [
    "plt.figure(figsize=(15,8))\n",
    "sns.barplot(x='Age Group', y='No. Of Customers' , hue='wealth_segment', data=wealth_age_seg_old)\n",
    "plt.xlabel('Age Group')\n",
    "plt.ylabel('Number of Customers')\n",
    "plt.title('Old Customers - Wealth Segmentation by Age Group')\n",
    "plt.show()"
   ]
  },
  {
   "cell_type": "markdown",
   "metadata": {},
   "source": [
    "Similar trend (like that of New Customers) is observed among Old Customers"
   ]
  },
  {
   "cell_type": "markdown",
   "metadata": {},
   "source": [
    "3.5. Car owner across each State"
   ]
  },
  {
   "cell_type": "markdown",
   "metadata": {},
   "source": [
    "The customer base of the automobile bike company lies in New South Wales, Queensland and Victoria, Australia. "
   ]
  },
  {
   "cell_type": "code",
   "execution_count": 63,
   "metadata": {},
   "outputs": [],
   "source": [
    "# Loading the Customer Address Dataset.\n",
    "cust_addr_info = pd.read_csv('CustomerAddress_Cleaned.csv')"
   ]
  },
  {
   "cell_type": "code",
   "execution_count": 64,
   "metadata": {},
   "outputs": [],
   "source": [
    "# Merging the RFM data with Customer Address dataset.\n",
    "cust_trans_addr = pd.merge(cust_trans_rfm, cust_addr_info, left_on = 'customer_id', right_on = 'customer_id', how='inner')"
   ]
  },
  {
   "cell_type": "code",
   "execution_count": 65,
   "metadata": {},
   "outputs": [
    {
     "name": "stdout",
     "output_type": "stream",
     "text": [
      "RFM table Records count : 19354\n",
      "Address Table Records count :3999\n"
     ]
    }
   ],
   "source": [
    "print(\"RFM table Records count : {}\\nAddress Table Records count :{}\".format(cust_trans_rfm.shape[0] ,cust_addr_info.shape[0]))"
   ]
  },
  {
   "cell_type": "code",
   "execution_count": 66,
   "metadata": {},
   "outputs": [],
   "source": [
    "state_car_owners = cust_trans_addr[['state' , 'owns_car' , 'customer_id']].drop_duplicates().groupby(['state', 'owns_car']).size().reset_index()"
   ]
  },
  {
   "cell_type": "code",
   "execution_count": 67,
   "metadata": {},
   "outputs": [
    {
     "data": {
      "text/html": [
       "<div>\n",
       "<style scoped>\n",
       "    .dataframe tbody tr th:only-of-type {\n",
       "        vertical-align: middle;\n",
       "    }\n",
       "\n",
       "    .dataframe tbody tr th {\n",
       "        vertical-align: top;\n",
       "    }\n",
       "\n",
       "    .dataframe thead th {\n",
       "        text-align: right;\n",
       "    }\n",
       "</style>\n",
       "<table border=\"1\" class=\"dataframe\">\n",
       "  <thead>\n",
       "    <tr style=\"text-align: right;\">\n",
       "      <th></th>\n",
       "      <th>state</th>\n",
       "      <th>owns_car</th>\n",
       "      <th>Number of Customers</th>\n",
       "    </tr>\n",
       "  </thead>\n",
       "  <tbody>\n",
       "    <tr>\n",
       "      <th>0</th>\n",
       "      <td>NSW</td>\n",
       "      <td>No</td>\n",
       "      <td>889</td>\n",
       "    </tr>\n",
       "    <tr>\n",
       "      <th>1</th>\n",
       "      <td>NSW</td>\n",
       "      <td>Yes</td>\n",
       "      <td>935</td>\n",
       "    </tr>\n",
       "    <tr>\n",
       "      <th>2</th>\n",
       "      <td>QLD</td>\n",
       "      <td>No</td>\n",
       "      <td>365</td>\n",
       "    </tr>\n",
       "    <tr>\n",
       "      <th>3</th>\n",
       "      <td>QLD</td>\n",
       "      <td>Yes</td>\n",
       "      <td>363</td>\n",
       "    </tr>\n",
       "    <tr>\n",
       "      <th>4</th>\n",
       "      <td>VIC</td>\n",
       "      <td>No</td>\n",
       "      <td>435</td>\n",
       "    </tr>\n",
       "    <tr>\n",
       "      <th>5</th>\n",
       "      <td>VIC</td>\n",
       "      <td>Yes</td>\n",
       "      <td>425</td>\n",
       "    </tr>\n",
       "  </tbody>\n",
       "</table>\n",
       "</div>"
      ],
      "text/plain": [
       "  state owns_car  Number of Customers\n",
       "0   NSW       No                  889\n",
       "1   NSW      Yes                  935\n",
       "2   QLD       No                  365\n",
       "3   QLD      Yes                  363\n",
       "4   VIC       No                  435\n",
       "5   VIC      Yes                  425"
      ]
     },
     "execution_count": 67,
     "metadata": {},
     "output_type": "execute_result"
    }
   ],
   "source": [
    "state_car_owners.rename(columns={0:'Number of Customers'}, inplace=True)\n",
    "state_car_owners"
   ]
  },
  {
   "cell_type": "code",
   "execution_count": 68,
   "metadata": {},
   "outputs": [
    {
     "data": {
      "image/png": "[encoded data removed]",
      "text/plain": [
       "<Figure size 576x504 with 1 Axes>"
      ]
     },
     "metadata": {},
     "output_type": "display_data"
    }
   ],
   "source": [
    "plt.figure(figsize=(8,7))\n",
    "sns.barplot(x='state', y='Number of Customers' , hue='owns_car', data=state_car_owners)\n",
    "plt.xlabel('States')\n",
    "plt.ylabel('Number of Customers')\n",
    "plt.title('Number of Customers who own a car')\n",
    "plt.show()"
   ]
  },
  {
   "cell_type": "markdown",
   "metadata": {},
   "source": [
    "In New South Wales (NSW) it seems there is a greater amount of people who donot own a car. In Victoria (VIC) the proportion is evenly split. However in Queensland (QLD) there are relatively more people who own the car."
   ]
  },
  {
   "cell_type": "markdown",
   "metadata": {},
   "source": [
    "NSW has the largest number of people that do not own a car. It seems that a higher amount of data is collected from NSW compared to other states. In QLD the distribution between customers having a car or not having is even. In Victoria the number is split evenly. Both the numbers are significantly lower than that of NSW."
   ]
  },
  {
   "cell_type": "markdown",
   "metadata": {},
   "source": [
    "4. RFM Analysis Scatter Plots"
   ]
  },
  {
   "cell_type": "markdown",
   "metadata": {},
   "source": [
    "4.1. Recency vs Monetary"
   ]
  },
  {
   "cell_type": "code",
   "execution_count": 70,
   "metadata": {},
   "outputs": [
    {
     "data": {
      "text/plain": [
       "<Figure size 576x504 with 0 Axes>"
      ]
     },
     "metadata": {},
     "output_type": "display_data"
    },
    {
     "data": {
      "image/png": "[encoded data removed]",
      "text/plain": [
       "<Figure size 432x288 with 1 Axes>"
      ]
     },
     "metadata": {},
     "output_type": "display_data"
    }
   ],
   "source": [
    "plt.figure(figsize=(8,7))\n",
    "cust_trans_rfm.plot.scatter(x='recency' , y='monetory')\n",
    "plt.xlabel('Recency')\n",
    "plt.ylabel('Monetary ($)')\n",
    "plt.title('Recency vs Monetary')\n",
    "plt.show()"
   ]
  },
  {
   "cell_type": "markdown",
   "metadata": {},
   "source": [
    "The chart shows that customers who purchased recently generated more revenue than customers who visited long time ago. Customers from recent past (50-100) days generated a moderate revenue. Customers who visited 200 days ago generated a low revenue."
   ]
  },
  {
   "cell_type": "markdown",
   "metadata": {},
   "source": [
    "4.2 Frequency vs Monetary"
   ]
  },
  {
   "cell_type": "code",
   "execution_count": 71,
   "metadata": {},
   "outputs": [
    {
     "data": {
      "text/plain": [
       "<Figure size 576x504 with 0 Axes>"
      ]
     },
     "metadata": {},
     "output_type": "display_data"
    },
    {
     "data": {
      "image/png": "[encoded data removed]",
      "text/plain": [
       "<Figure size 432x288 with 1 Axes>"
      ]
     },
     "metadata": {},
     "output_type": "display_data"
    }
   ],
   "source": [
    "plt.figure(figsize=(8,7))\n",
    "cust_trans_rfm.plot.scatter(x='frequency' , y='monetory')\n",
    "plt.xlabel('Frequency')\n",
    "plt.ylabel('Monetary ($)')\n",
    "plt.title('Frequency vs Monetary')\n",
    "plt.show()"
   ]
  },
  {
   "cell_type": "markdown",
   "metadata": {},
   "source": [
    "5. Customer Segment Distribution"
   ]
  },
  {
   "cell_type": "markdown",
   "metadata": {},
   "source": [
    "Finally we can plot the Number of Customers present under a Customer Segment."
   ]
  },
  {
   "cell_type": "code",
   "execution_count": 73,
   "metadata": {},
   "outputs": [],
   "source": [
    "# Calculating the number of unique customers under a customer title.\n",
    "\n",
    "cust_per_title = cust_trans_rfm[['detail_cust_title', 'customer_id','rank']].drop_duplicates().groupby(\n",
    "    ['detail_cust_title','rank']).size().reset_index().sort_values('rank')"
   ]
  },
  {
   "cell_type": "code",
   "execution_count": 74,
   "metadata": {},
   "outputs": [
    {
     "data": {
      "text/html": [
       "<div>\n",
       "<style scoped>\n",
       "    .dataframe tbody tr th:only-of-type {\n",
       "        vertical-align: middle;\n",
       "    }\n",
       "\n",
       "    .dataframe tbody tr th {\n",
       "        vertical-align: top;\n",
       "    }\n",
       "\n",
       "    .dataframe thead th {\n",
       "        text-align: right;\n",
       "    }\n",
       "</style>\n",
       "<table border=\"1\" class=\"dataframe\">\n",
       "  <thead>\n",
       "    <tr style=\"text-align: right;\">\n",
       "      <th></th>\n",
       "      <th>detail_cust_title</th>\n",
       "      <th>rank</th>\n",
       "      <th>Number of Customers</th>\n",
       "    </tr>\n",
       "  </thead>\n",
       "  <tbody>\n",
       "    <tr>\n",
       "      <th>7</th>\n",
       "      <td>Platinum Customer</td>\n",
       "      <td>1</td>\n",
       "      <td>94</td>\n",
       "    </tr>\n",
       "    <tr>\n",
       "      <th>10</th>\n",
       "      <td>Very Loyal</td>\n",
       "      <td>2</td>\n",
       "      <td>262</td>\n",
       "    </tr>\n",
       "    <tr>\n",
       "      <th>1</th>\n",
       "      <td>Becoming Loyal</td>\n",
       "      <td>3</td>\n",
       "      <td>279</td>\n",
       "    </tr>\n",
       "    <tr>\n",
       "      <th>9</th>\n",
       "      <td>Recent Customer</td>\n",
       "      <td>4</td>\n",
       "      <td>350</td>\n",
       "    </tr>\n",
       "    <tr>\n",
       "      <th>8</th>\n",
       "      <td>Potential Customer</td>\n",
       "      <td>5</td>\n",
       "      <td>404</td>\n",
       "    </tr>\n",
       "    <tr>\n",
       "      <th>4</th>\n",
       "      <td>Late Bloomer</td>\n",
       "      <td>6</td>\n",
       "      <td>329</td>\n",
       "    </tr>\n",
       "    <tr>\n",
       "      <th>5</th>\n",
       "      <td>Loosing Customer</td>\n",
       "      <td>7</td>\n",
       "      <td>574</td>\n",
       "    </tr>\n",
       "    <tr>\n",
       "      <th>3</th>\n",
       "      <td>High Risk Customer</td>\n",
       "      <td>8</td>\n",
       "      <td>181</td>\n",
       "    </tr>\n",
       "    <tr>\n",
       "      <th>0</th>\n",
       "      <td>Almost Lost Customer</td>\n",
       "      <td>9</td>\n",
       "      <td>832</td>\n",
       "    </tr>\n",
       "    <tr>\n",
       "      <th>2</th>\n",
       "      <td>Evasive Customer</td>\n",
       "      <td>10</td>\n",
       "      <td>83</td>\n",
       "    </tr>\n",
       "    <tr>\n",
       "      <th>6</th>\n",
       "      <td>Lost Customer</td>\n",
       "      <td>11</td>\n",
       "      <td>28</td>\n",
       "    </tr>\n",
       "  </tbody>\n",
       "</table>\n",
       "</div>"
      ],
      "text/plain": [
       "       detail_cust_title  rank  Number of Customers\n",
       "7      Platinum Customer     1                   94\n",
       "10            Very Loyal     2                  262\n",
       "1         Becoming Loyal     3                  279\n",
       "9        Recent Customer     4                  350\n",
       "8     Potential Customer     5                  404\n",
       "4           Late Bloomer     6                  329\n",
       "5       Loosing Customer     7                  574\n",
       "3     High Risk Customer     8                  181\n",
       "0   Almost Lost Customer     9                  832\n",
       "2       Evasive Customer    10                   83\n",
       "6          Lost Customer    11                   28"
      ]
     },
     "execution_count": 74,
     "metadata": {},
     "output_type": "execute_result"
    }
   ],
   "source": [
    "cust_per_title.rename(columns={0:'Number of Customers'}, inplace=True)\n",
    "cust_per_title"
   ]
  },
  {
   "cell_type": "code",
   "execution_count": 75,
   "metadata": {},
   "outputs": [
    {
     "data": {
      "image/png": "[encoded data removed]",
      "text/plain": [
       "<Figure size 1080x576 with 1 Axes>"
      ]
     },
     "metadata": {},
     "output_type": "display_data"
    }
   ],
   "source": [
    "# Plotting the Number of Customers\n",
    "\n",
    "plt.figure(figsize=(15,8))\n",
    "sns.barplot(y='detail_cust_title' , x='Number of Customers', data=cust_per_title)\n",
    "plt.xlabel('Number of Customers')\n",
    "plt.ylabel('Customer Segment')\n",
    "plt.title('Number of Customers by Customer Segment')\n",
    "plt.show()"
   ]
  }
 ],
 "metadata": {
  "kernelspec": {
   "display_name": "Python 3.8.10 64-bit",
   "language": "python",
   "name": "python3"
  },
  "language_info": {
   "codemirror_mode": {
    "name": "ipython",
    "version": 3
   },
   "file_extension": ".py",
   "mimetype": "text/x-python",
   "name": "python",
   "nbconvert_exporter": "python",
   "pygments_lexer": "ipython3",
   "version": "3.8.10"
  },
  "orig_nbformat": 4,
  "vscode": {
   "interpreter": {
    "hash": "570feb405e2e27c949193ac68f46852414290d515b0ba6e5d90d076ed2284471"
   }
  }
 },
 "nbformat": 4,
 "nbformat_minor": 2
}
